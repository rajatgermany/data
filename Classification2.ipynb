{
  "nbformat": 4,
  "nbformat_minor": 0,
  "metadata": {
    "colab": {
      "name": "Classification2.ipynb",
      "version": "0.3.2",
      "provenance": [],
      "toc_visible": true,
      "include_colab_link": true
    },
    "kernelspec": {
      "name": "python3",
      "display_name": "Python 3"
    }
  },
  "cells": [
    {
      "cell_type": "markdown",
      "metadata": {
        "id": "view-in-github",
        "colab_type": "text"
      },
      "source": [
        "<a href=\"https://colab.research.google.com/github/rajatgermany/data/blob/master/Classification2.ipynb\" target=\"_parent\"><img src=\"https://colab.research.google.com/assets/colab-badge.svg\" alt=\"Open In Colab\"/></a>"
      ]
    },
    {
      "metadata": {
        "id": "hK9dV_o0j12Q",
        "colab_type": "code",
        "outputId": "54193141-5af7-4374-83b0-629ed09eb579",
        "colab": {
          "base_uri": "https://localhost:8080/",
          "height": 34
        }
      },
      "cell_type": "code",
      "source": [
        "from google.colab import drive \n",
        "drive.mount('/content/gdrive')"
      ],
      "execution_count": 1,
      "outputs": [
        {
          "output_type": "stream",
          "text": [
            "Drive already mounted at /content/gdrive; to attempt to forcibly remount, call drive.mount(\"/content/gdrive\", force_remount=True).\n"
          ],
          "name": "stdout"
        }
      ]
    },
    {
      "metadata": {
        "id": "9caO0No2j7rn",
        "colab_type": "code",
        "colab": {}
      },
      "cell_type": "code",
      "source": [
        "% matplotlib inline\n",
        "\n",
        "import pandas as pd \n",
        "import numpy as np\n",
        "import matplotlib.pyplot as plt\n",
        "import seaborn as sns\n",
        "import warnings\n",
        "from sklearn.linear_model import LogisticRegression\n",
        "from sklearn.metrics import recall_score \n",
        "from sklearn import model_selection\n",
        "from imblearn.over_sampling import SMOTE\n",
        "from imblearn.under_sampling import (RandomUnderSampler, \n",
        "                                     ClusterCentroids,\n",
        "                                     TomekLinks,\n",
        "                                     NeighbourhoodCleaningRule,\n",
        "                                     NearMiss)\n",
        "\n",
        "\n",
        "from imblearn.over_sampling import (RandomOverSampler, SMOTE)\n",
        "\n",
        "from sklearn.ensemble import RandomForestClassifier\n",
        "from sklearn.model_selection import train_test_split\n",
        "from sklearn import svm\n",
        "from sklearn.utils import shuffle\n",
        "from sklearn.feature_selection import RFE\n",
        "from sklearn.model_selection import cross_val_score\n",
        "\n",
        "from pyod.models.abod import ABOD\n",
        "from pyod.models.knn import KNN \n",
        "\n",
        "\n",
        "warnings.filterwarnings('ignore')"
      ],
      "execution_count": 0,
      "outputs": []
    },
    {
      "metadata": {
        "id": "nYpCNEPsj90M",
        "colab_type": "code",
        "colab": {}
      },
      "cell_type": "code",
      "source": [
        "\n",
        "# PLot settings\n",
        "SMALL_SIZE = 12\n",
        "MEDIUM_SIZE = 20\n",
        "BIGGER_SIZE = 24\n",
        "\n",
        "plt.rc('font', size=SMALL_SIZE)          # controls default text sizes\n",
        "plt.rc('axes', titlesize=SMALL_SIZE)     # fontsize of the axes title\n",
        "plt.rc('axes', labelsize=MEDIUM_SIZE)    # fontsize of the x and y labels\n",
        "plt.rc('xtick', labelsize=SMALL_SIZE)    # fontsize of the tick labels\n",
        "plt.rc('ytick', labelsize=SMALL_SIZE)    # fontsize of the tick labels\n",
        "plt.rc('legend', fontsize=SMALL_SIZE)    # legend fontsize\n",
        "plt.rc('figure', titlesize=BIGGER_SIZE)  # fontsize of the figure title"
      ],
      "execution_count": 0,
      "outputs": []
    },
    {
      "metadata": {
        "id": "LCNXihXdj__I",
        "colab_type": "code",
        "colab": {}
      },
      "cell_type": "code",
      "source": [
        "df = pd.read_csv('gdrive/My Drive/Colab Notebooks/dataexploration/yelp/yelp_user.csv')"
      ],
      "execution_count": 0,
      "outputs": []
    },
    {
      "metadata": {
        "id": "Cf6rVAPBzPI5",
        "colab_type": "code",
        "outputId": "7b172ae6-0b2e-4941-f798-d8f518e2b40e",
        "colab": {
          "base_uri": "https://localhost:8080/",
          "height": 304
        }
      },
      "cell_type": "code",
      "source": [
        "df.head()"
      ],
      "execution_count": 10,
      "outputs": [
        {
          "output_type": "execute_result",
          "data": {
            "text/html": [
              "<div>\n",
              "<style scoped>\n",
              "    .dataframe tbody tr th:only-of-type {\n",
              "        vertical-align: middle;\n",
              "    }\n",
              "\n",
              "    .dataframe tbody tr th {\n",
              "        vertical-align: top;\n",
              "    }\n",
              "\n",
              "    .dataframe thead th {\n",
              "        text-align: right;\n",
              "    }\n",
              "</style>\n",
              "<table border=\"1\" class=\"dataframe\">\n",
              "  <thead>\n",
              "    <tr style=\"text-align: right;\">\n",
              "      <th></th>\n",
              "      <th>user_id</th>\n",
              "      <th>name</th>\n",
              "      <th>review_count</th>\n",
              "      <th>yelping_since</th>\n",
              "      <th>friends</th>\n",
              "      <th>useful</th>\n",
              "      <th>funny</th>\n",
              "      <th>cool</th>\n",
              "      <th>fans</th>\n",
              "      <th>elite</th>\n",
              "      <th>...</th>\n",
              "      <th>compliment_more</th>\n",
              "      <th>compliment_profile</th>\n",
              "      <th>compliment_cute</th>\n",
              "      <th>compliment_list</th>\n",
              "      <th>compliment_note</th>\n",
              "      <th>compliment_plain</th>\n",
              "      <th>compliment_cool</th>\n",
              "      <th>compliment_funny</th>\n",
              "      <th>compliment_writer</th>\n",
              "      <th>compliment_photos</th>\n",
              "    </tr>\n",
              "  </thead>\n",
              "  <tbody>\n",
              "    <tr>\n",
              "      <th>0</th>\n",
              "      <td>JJ-aSuM4pCFPdkfoZ34q0Q</td>\n",
              "      <td>Chris</td>\n",
              "      <td>10</td>\n",
              "      <td>2013-09-24</td>\n",
              "      <td>0njfJmB-7n84DlIgUByCNw, rFn3Xe3RqHxRSxWOU19Gpg...</td>\n",
              "      <td>0</td>\n",
              "      <td>0</td>\n",
              "      <td>0</td>\n",
              "      <td>0</td>\n",
              "      <td>None</td>\n",
              "      <td>...</td>\n",
              "      <td>0</td>\n",
              "      <td>0</td>\n",
              "      <td>0</td>\n",
              "      <td>0</td>\n",
              "      <td>0</td>\n",
              "      <td>0</td>\n",
              "      <td>0</td>\n",
              "      <td>0</td>\n",
              "      <td>0</td>\n",
              "      <td>0</td>\n",
              "    </tr>\n",
              "    <tr>\n",
              "      <th>1</th>\n",
              "      <td>uUzsFQn_6cXDh6rPNGbIFA</td>\n",
              "      <td>Tiffy</td>\n",
              "      <td>1</td>\n",
              "      <td>2017-03-02</td>\n",
              "      <td>None</td>\n",
              "      <td>0</td>\n",
              "      <td>0</td>\n",
              "      <td>0</td>\n",
              "      <td>0</td>\n",
              "      <td>None</td>\n",
              "      <td>...</td>\n",
              "      <td>0</td>\n",
              "      <td>0</td>\n",
              "      <td>0</td>\n",
              "      <td>0</td>\n",
              "      <td>0</td>\n",
              "      <td>0</td>\n",
              "      <td>0</td>\n",
              "      <td>0</td>\n",
              "      <td>0</td>\n",
              "      <td>0</td>\n",
              "    </tr>\n",
              "    <tr>\n",
              "      <th>2</th>\n",
              "      <td>mBneaEEH5EMyxaVyqS-72A</td>\n",
              "      <td>Mark</td>\n",
              "      <td>6</td>\n",
              "      <td>2015-03-13</td>\n",
              "      <td>None</td>\n",
              "      <td>0</td>\n",
              "      <td>0</td>\n",
              "      <td>0</td>\n",
              "      <td>0</td>\n",
              "      <td>None</td>\n",
              "      <td>...</td>\n",
              "      <td>0</td>\n",
              "      <td>0</td>\n",
              "      <td>0</td>\n",
              "      <td>0</td>\n",
              "      <td>0</td>\n",
              "      <td>0</td>\n",
              "      <td>0</td>\n",
              "      <td>0</td>\n",
              "      <td>0</td>\n",
              "      <td>0</td>\n",
              "    </tr>\n",
              "    <tr>\n",
              "      <th>3</th>\n",
              "      <td>W5mJGs-dcDWRGEhAzUYtoA</td>\n",
              "      <td>Evelyn</td>\n",
              "      <td>3</td>\n",
              "      <td>2016-09-08</td>\n",
              "      <td>None</td>\n",
              "      <td>0</td>\n",
              "      <td>0</td>\n",
              "      <td>0</td>\n",
              "      <td>0</td>\n",
              "      <td>None</td>\n",
              "      <td>...</td>\n",
              "      <td>0</td>\n",
              "      <td>0</td>\n",
              "      <td>0</td>\n",
              "      <td>0</td>\n",
              "      <td>0</td>\n",
              "      <td>0</td>\n",
              "      <td>0</td>\n",
              "      <td>0</td>\n",
              "      <td>0</td>\n",
              "      <td>0</td>\n",
              "    </tr>\n",
              "    <tr>\n",
              "      <th>4</th>\n",
              "      <td>4E8--zUZO1Rr1IBK4_83fg</td>\n",
              "      <td>Lisa</td>\n",
              "      <td>11</td>\n",
              "      <td>2012-07-16</td>\n",
              "      <td>None</td>\n",
              "      <td>4</td>\n",
              "      <td>0</td>\n",
              "      <td>0</td>\n",
              "      <td>0</td>\n",
              "      <td>None</td>\n",
              "      <td>...</td>\n",
              "      <td>0</td>\n",
              "      <td>0</td>\n",
              "      <td>0</td>\n",
              "      <td>0</td>\n",
              "      <td>0</td>\n",
              "      <td>0</td>\n",
              "      <td>0</td>\n",
              "      <td>0</td>\n",
              "      <td>1</td>\n",
              "      <td>0</td>\n",
              "    </tr>\n",
              "  </tbody>\n",
              "</table>\n",
              "<p>5 rows × 22 columns</p>\n",
              "</div>"
            ],
            "text/plain": [
              "                  user_id    name  review_count yelping_since  \\\n",
              "0  JJ-aSuM4pCFPdkfoZ34q0Q   Chris            10    2013-09-24   \n",
              "1  uUzsFQn_6cXDh6rPNGbIFA   Tiffy             1    2017-03-02   \n",
              "2  mBneaEEH5EMyxaVyqS-72A    Mark             6    2015-03-13   \n",
              "3  W5mJGs-dcDWRGEhAzUYtoA  Evelyn             3    2016-09-08   \n",
              "4  4E8--zUZO1Rr1IBK4_83fg    Lisa            11    2012-07-16   \n",
              "\n",
              "                                             friends  useful  funny  cool  \\\n",
              "0  0njfJmB-7n84DlIgUByCNw, rFn3Xe3RqHxRSxWOU19Gpg...       0      0     0   \n",
              "1                                               None       0      0     0   \n",
              "2                                               None       0      0     0   \n",
              "3                                               None       0      0     0   \n",
              "4                                               None       4      0     0   \n",
              "\n",
              "   fans elite        ...          compliment_more  compliment_profile  \\\n",
              "0     0  None        ...                        0                   0   \n",
              "1     0  None        ...                        0                   0   \n",
              "2     0  None        ...                        0                   0   \n",
              "3     0  None        ...                        0                   0   \n",
              "4     0  None        ...                        0                   0   \n",
              "\n",
              "   compliment_cute  compliment_list  compliment_note  compliment_plain  \\\n",
              "0                0                0                0                 0   \n",
              "1                0                0                0                 0   \n",
              "2                0                0                0                 0   \n",
              "3                0                0                0                 0   \n",
              "4                0                0                0                 0   \n",
              "\n",
              "   compliment_cool  compliment_funny  compliment_writer  compliment_photos  \n",
              "0                0                 0                  0                  0  \n",
              "1                0                 0                  0                  0  \n",
              "2                0                 0                  0                  0  \n",
              "3                0                 0                  0                  0  \n",
              "4                0                 0                  1                  0  \n",
              "\n",
              "[5 rows x 22 columns]"
            ]
          },
          "metadata": {
            "tags": []
          },
          "execution_count": 10
        }
      ]
    },
    {
      "metadata": {
        "id": "G2fei0ecyYNa",
        "colab_type": "text"
      },
      "cell_type": "markdown",
      "source": [
        "# Data Preprocessing"
      ]
    },
    {
      "metadata": {
        "id": "wpmooF61i5wO",
        "colab_type": "code",
        "colab": {}
      },
      "cell_type": "code",
      "source": [
        "# Convert the yelping since with the number of years \n",
        "\n",
        "year_start_date = pd.to_datetime('20190101', format='%Y-%m-%d', errors='ignore')\n",
        "df['yelping_since'] = pd.to_datetime(df.yelping_since)\n",
        "df['yelping_years'] =  year_start_date - df.yelping_since\n",
        "days = df['yelping_years'].astype('timedelta64[Y]')\n",
        "df['yelping_years'] = df['yelping_years']/ np.timedelta64(1, 'Y')\n",
        "df.drop('yelping_since', axis = 1, inplace = True)\n"
      ],
      "execution_count": 0,
      "outputs": []
    },
    {
      "metadata": {
        "id": "OXIDFTSMkIGo",
        "colab_type": "code",
        "colab": {}
      },
      "cell_type": "code",
      "source": [
        "df['elite'] = df.elite.apply(lambda x : 0 if x == 'None' else 1) # 1 if person is elite atleast for one year and 0 for if he/she never\n",
        "df['friends'] = df.friends.apply(lambda x : 0 if x == None else len(x.split(',')) ) "
      ],
      "execution_count": 0,
      "outputs": []
    },
    {
      "metadata": {
        "id": "g2nWZazxkKPz",
        "colab_type": "code",
        "colab": {}
      },
      "cell_type": "code",
      "source": [
        "# Removed features which can be considered as ids\n",
        "\n",
        "df.drop('name', axis = 1, inplace = True)\n",
        "df.drop('user_id' , axis = 1, inplace = True)\n"
      ],
      "execution_count": 0,
      "outputs": []
    },
    {
      "metadata": {
        "id": "NAbVCfmR_vWj",
        "colab_type": "text"
      },
      "cell_type": "markdown",
      "source": [
        "# Target Variable"
      ]
    },
    {
      "metadata": {
        "id": "xBOFX7Pa_uBJ",
        "colab_type": "code",
        "colab": {
          "base_uri": "https://localhost:8080/",
          "height": 312
        },
        "outputId": "0b8b64ec-6042-4a26-8119-aa30ef6ab721"
      },
      "cell_type": "code",
      "source": [
        "sns.countplot('elite', data = df)"
      ],
      "execution_count": 56,
      "outputs": [
        {
          "output_type": "execute_result",
          "data": {
            "text/plain": [
              "<matplotlib.axes._subplots.AxesSubplot at 0x7f7036c1c5c0>"
            ]
          },
          "metadata": {
            "tags": []
          },
          "execution_count": 56
        },
        {
          "output_type": "display_data",
          "data": {
            "image/png": "[encoded data removed]",
            "text/plain": [
              "<Figure size 432x288 with 1 Axes>"
            ]
          },
          "metadata": {
            "tags": []
          }
        }
      ]
    },
    {
      "metadata": {
        "id": "fHRZ9uNO_-5u",
        "colab_type": "text"
      },
      "cell_type": "markdown",
      "source": [
        "# First Intution\n",
        "\n",
        "1. **Normal Classifier accuracy will not work for this solution . Because the classifer will be baised towards the majority class '0'**\n",
        "\n",
        "2. **Because of this we will be classifying the minority class 1 as 0 most of the time**\n",
        "\n",
        "3. **One solution is to collect more data for review count for class 1 which is not possibe in our case**\n",
        "\n",
        "4. **Another solution is to perform undesampling or oversampling** . \n",
        "\n",
        "5. **OverSampling  adds copies of the minority class**\n",
        "\n",
        "6.  **UnderSampling deletes the instances from the majority class**"
      ]
    },
    {
      "metadata": {
        "id": "LbHs8YvuCdwj",
        "colab_type": "text"
      },
      "cell_type": "markdown",
      "source": [
        "<img src=\"https://drive.google.com/uc?export=download&id=1veIkl7Z9-iIqGF4KyFMv7bDKORsJqXAB\">\n",
        "\n"
      ]
    },
    {
      "metadata": {
        "id": "z2dkbLXuFW36",
        "colab_type": "text"
      },
      "cell_type": "markdown",
      "source": [
        "# Approach\n",
        "\n",
        "1. I are not going to perform the oversampling here.\n",
        "2. I will sample our data using three undersampling techniques (KNearMiss, ClusterCentroid, RandomUnderSampler)\n",
        "3. I will be using recall as evaluation metric to score the classifier\n",
        "4. Will perform the error analysis and try to find the patterns where classifier is failing.\n",
        "5. We are here only concerned about the false positives . These will be the instances which are previously marked as '0' but classifier has marked it '1'\n",
        "6. Finally we will perform the feature enginerring using different methods"
      ]
    },
    {
      "metadata": {
        "id": "tslQOUg4zezN",
        "colab_type": "text"
      },
      "cell_type": "markdown",
      "source": [
        "# Sampling"
      ]
    },
    {
      "metadata": {
        "id": "4c3PwiRyvhuM",
        "colab_type": "code",
        "colab": {}
      },
      "cell_type": "code",
      "source": [
        "# classifiers considered for the experiment\n",
        "classifiers = {\n",
        "    'Logistic': LogisticRegression(),\n",
        "    'SVM': svm.SVC(gamma='auto'),\n",
        "    \"Random_forest\": RandomForestClassifier(n_estimators=100, \n",
        "                                            max_depth=2,\n",
        "                                            random_state=0)\n",
        "}"
      ],
      "execution_count": 0,
      "outputs": []
    },
    {
      "metadata": {
        "id": "HIGespniDU0K",
        "colab_type": "code",
        "colab": {}
      },
      "cell_type": "code",
      "source": [
        "y = df.elite\n",
        "X = df.drop('elite', axis =1)"
      ],
      "execution_count": 0,
      "outputs": []
    },
    {
      "metadata": {
        "id": "NX7CwMY4kwnU",
        "colab_type": "code",
        "colab": {}
      },
      "cell_type": "code",
      "source": [
        "\n",
        "# User defined functions\n",
        "def kfold_score(X, Y, fold):\n",
        "  \"\"\" Returns the average recall score per cross each fold for each classifier.\n",
        "\n",
        "    Parameters:\n",
        "        X (ndarray): DataFrame is converted to ndarry by sampling methods.\n",
        "        Y (array): Target Variable\n",
        "\n",
        "    Returns:\n",
        "        reverse(str1):The string which gets reversed.   \n",
        "\n",
        "    \"\"\"\n",
        "  \n",
        "  kfold = model_selection.KFold(n_splits = fold, shuffle=True)\n",
        "  \n",
        "  result = dict()\n",
        "  for classifer_name, classifer in classifiers.items():\n",
        "    final_score = 0\n",
        "\n",
        "    for i, (train_index, test_index) in enumerate(kfold.split(X)):\n",
        "      X_train, X_test = X[train_index], X[test_index]\n",
        "      y_train, y_test = Y[train_index], Y[test_index]\n",
        "      classifer.fit(X_train, y_train)\n",
        "      y_pred = classifer.predict(X_test)\n",
        "      \n",
        "\n",
        "      final_score += recall_score(y_test, y_pred)  \n",
        "\n",
        "    result.update({classifer_name: (final_score/fold) * 100}) \n",
        "    \n",
        "  return result \n",
        "\n",
        "\n",
        "def sampling(sampling_technique, ratio):\n",
        "  sampler = sampling_technique(ratio=ratio, sampling_strategy = 'minority')\n",
        "  X_sample, y_sample = sampler.fit_resample(X, y)\n",
        "  \n",
        "  return (X_sample, y_sample)\n",
        "\n",
        "\n",
        "def get_recall_score(sampling_technique, ratio, fold):\n",
        "  \n",
        "    X_sample, y_sample = sampling(sampling_technique, ratio)\n",
        "    return kfold_score(X_sample, y_sample, fold)\n",
        "\n",
        "\n"
      ],
      "execution_count": 0,
      "outputs": []
    },
    {
      "metadata": {
        "id": "V_QlrEuTIMsY",
        "colab_type": "code",
        "colab": {}
      },
      "cell_type": "code",
      "source": [
        "# Ratios of the samples considered in the experiments\n",
        "\n",
        "experiment_ratios = [\n",
        "    {\n",
        "        0: 25,\n",
        "        1: 25\n",
        "    },\n",
        "     {\n",
        "        0: 50,\n",
        "        1: 25\n",
        "    },\n",
        "     {\n",
        "        0: 75,\n",
        "        1: 25\n",
        "    },\n",
        "     {\n",
        "        0: 125,\n",
        "        1: 25\n",
        "    },\n",
        "     {\n",
        "        0: 250,\n",
        "        1: 25\n",
        "    }\n",
        "]"
      ],
      "execution_count": 0,
      "outputs": []
    },
    {
      "metadata": {
        "id": "EaJ3S-dkHjfa",
        "colab_type": "text"
      },
      "cell_type": "markdown",
      "source": [
        "## Sampling Techniques"
      ]
    },
    {
      "metadata": {
        "id": "_EEjhyFqOiUj",
        "colab_type": "text"
      },
      "cell_type": "markdown",
      "source": [
        "Generate Samples using different undersampling techniques"
      ]
    },
    {
      "metadata": {
        "id": "JzQbkDAcInWq",
        "colab_type": "code",
        "outputId": "6ad4b12b-a990-4c5f-ea33-f4726d14a508",
        "colab": {
          "base_uri": "https://localhost:8080/",
          "height": 142
        }
      },
      "cell_type": "code",
      "source": [
        "# Near Miss Technique\n",
        "sampled_df_NearMiss = pd.DataFrame()\n",
        "for ratio in experiment_ratios:\n",
        "  sampled_df_NearMiss = sampled_df_NearMiss.append(get_recall_score(NearMiss, ratio, 10), ignore_index=True)\n",
        "  \n",
        "sampled_df_NearMiss = sampled_df_NearMiss.T\n",
        "sampled_df_NearMiss.columns = [1, 2, 3,5, 10] # majority class ratio\n",
        "sampled_df_NearMiss # recall score for different ratio"
      ],
      "execution_count": 0,
      "outputs": [
        {
          "output_type": "execute_result",
          "data": {
            "text/html": [
              "<div>\n",
              "<style scoped>\n",
              "    .dataframe tbody tr th:only-of-type {\n",
              "        vertical-align: middle;\n",
              "    }\n",
              "\n",
              "    .dataframe tbody tr th {\n",
              "        vertical-align: top;\n",
              "    }\n",
              "\n",
              "    .dataframe thead th {\n",
              "        text-align: right;\n",
              "    }\n",
              "</style>\n",
              "<table border=\"1\" class=\"dataframe\">\n",
              "  <thead>\n",
              "    <tr style=\"text-align: right;\">\n",
              "      <th></th>\n",
              "      <th>1</th>\n",
              "      <th>2</th>\n",
              "      <th>3</th>\n",
              "      <th>5</th>\n",
              "      <th>10</th>\n",
              "    </tr>\n",
              "  </thead>\n",
              "  <tbody>\n",
              "    <tr>\n",
              "      <th>Logistic</th>\n",
              "      <td>71.333333</td>\n",
              "      <td>58.333333</td>\n",
              "      <td>50.000000</td>\n",
              "      <td>52.500000</td>\n",
              "      <td>24.166667</td>\n",
              "    </tr>\n",
              "    <tr>\n",
              "      <th>Random_forest</th>\n",
              "      <td>81.333333</td>\n",
              "      <td>32.333333</td>\n",
              "      <td>30.000000</td>\n",
              "      <td>25.000000</td>\n",
              "      <td>5.000000</td>\n",
              "    </tr>\n",
              "    <tr>\n",
              "      <th>SVM</th>\n",
              "      <td>88.333333</td>\n",
              "      <td>66.666667</td>\n",
              "      <td>68.333333</td>\n",
              "      <td>27.666667</td>\n",
              "      <td>10.833333</td>\n",
              "    </tr>\n",
              "  </tbody>\n",
              "</table>\n",
              "</div>"
            ],
            "text/plain": [
              "                      1          2          3          5          10\n",
              "Logistic       71.333333  58.333333  50.000000  52.500000  24.166667\n",
              "Random_forest  81.333333  32.333333  30.000000  25.000000   5.000000\n",
              "SVM            88.333333  66.666667  68.333333  27.666667  10.833333"
            ]
          },
          "metadata": {
            "tags": []
          },
          "execution_count": 14
        }
      ]
    },
    {
      "metadata": {
        "id": "g71rEvb3_H8B",
        "colab_type": "text"
      },
      "cell_type": "markdown",
      "source": [
        "**Recall Score for different ratio of class 0**"
      ]
    },
    {
      "metadata": {
        "id": "UhsEJztII4P1",
        "colab_type": "code",
        "outputId": "96dfffd9-6b51-4b4a-f232-2caba5ee9281",
        "colab": {
          "base_uri": "https://localhost:8080/",
          "height": 142
        }
      },
      "cell_type": "code",
      "source": [
        "# Random UnderSampler\n",
        "sampled_df_RandomSampler = pd.DataFrame()\n",
        "\n",
        "for ratio in experiment_ratios:\n",
        "  sampled_df_RandomSampler = sampled_df_RandomSampler.append(get_recall_score(RandomUnderSampler, ratio, 10), ignore_index=True)\n",
        "  \n",
        "sampled_df_RandomSampler = sampled_df_RandomSampler.T\n",
        "sampled_df_RandomSampler.columns = [1, 2, 3,5, 10]\n",
        "sampled_df_RandomSampler\n"
      ],
      "execution_count": 0,
      "outputs": [
        {
          "output_type": "execute_result",
          "data": {
            "text/html": [
              "<div>\n",
              "<style scoped>\n",
              "    .dataframe tbody tr th:only-of-type {\n",
              "        vertical-align: middle;\n",
              "    }\n",
              "\n",
              "    .dataframe tbody tr th {\n",
              "        vertical-align: top;\n",
              "    }\n",
              "\n",
              "    .dataframe thead th {\n",
              "        text-align: right;\n",
              "    }\n",
              "</style>\n",
              "<table border=\"1\" class=\"dataframe\">\n",
              "  <thead>\n",
              "    <tr style=\"text-align: right;\">\n",
              "      <th></th>\n",
              "      <th>1</th>\n",
              "      <th>2</th>\n",
              "      <th>3</th>\n",
              "      <th>5</th>\n",
              "      <th>10</th>\n",
              "    </tr>\n",
              "  </thead>\n",
              "  <tbody>\n",
              "    <tr>\n",
              "      <th>Logistic</th>\n",
              "      <td>81.000000</td>\n",
              "      <td>72.666667</td>\n",
              "      <td>60.833333</td>\n",
              "      <td>59.666667</td>\n",
              "      <td>77.500000</td>\n",
              "    </tr>\n",
              "    <tr>\n",
              "      <th>Random_forest</th>\n",
              "      <td>86.666667</td>\n",
              "      <td>80.000000</td>\n",
              "      <td>80.833333</td>\n",
              "      <td>85.000000</td>\n",
              "      <td>85.833333</td>\n",
              "    </tr>\n",
              "    <tr>\n",
              "      <th>SVM</th>\n",
              "      <td>100.000000</td>\n",
              "      <td>70.000000</td>\n",
              "      <td>0.000000</td>\n",
              "      <td>0.000000</td>\n",
              "      <td>0.000000</td>\n",
              "    </tr>\n",
              "  </tbody>\n",
              "</table>\n",
              "</div>"
            ],
            "text/plain": [
              "                       1          2          3          5          10\n",
              "Logistic        81.000000  72.666667  60.833333  59.666667  77.500000\n",
              "Random_forest   86.666667  80.000000  80.833333  85.000000  85.833333\n",
              "SVM            100.000000  70.000000   0.000000   0.000000   0.000000"
            ]
          },
          "metadata": {
            "tags": []
          },
          "execution_count": 13
        }
      ]
    },
    {
      "metadata": {
        "id": "5ELLCXUDIRiU",
        "colab_type": "code",
        "colab": {}
      },
      "cell_type": "code",
      "source": [
        "# ClusterCentroid\n",
        "sampled_df_ClusterCentroid = pd.DataFrame()\n",
        "for ratio in experiment_ratios:\n",
        "  sampled_df_RandomSampler = sampled_df_ClusterCentroid.append(get_recall_score(ClusterCentroids, ratio, 10), ignore_index=True)\n",
        "  \n",
        "sampled_df_ClusterCentroid = sampled_df_NearMiss.T\n",
        "sampled_df_ClusterCentroid.columns = [1, 2, 3,5, 10]\n",
        "sampled_df_ClusterCentroid\n"
      ],
      "execution_count": 0,
      "outputs": []
    },
    {
      "metadata": {
        "id": "HcPYFxrAV-QV",
        "colab_type": "code",
        "outputId": "ddd30b13-76ec-4e3c-d224-08f5e0a6703f",
        "colab": {
          "base_uri": "https://localhost:8080/",
          "height": 855
        }
      },
      "cell_type": "code",
      "source": [
        "from scipy.stats import norm\n",
        "fig, ax = plt.subplots(2,2, figsize=(14, 14))\n",
        "\n",
        "sampled_df_NearMiss.T.plot(ax = ax[0][0])\n",
        "sampled_df_RandomSampler.T.plot(ax = ax[0][1])\n",
        "sampled_df_NearMiss.T.plot(ax = ax[1][0])\n",
        "\n",
        "ax[0][0].set_xlabel('Ratio of Majority Class (0)')\n",
        "ax[0][0].set_ylabel('Average Recall Score')\n",
        "ax[0][0].set_title('NearMiss')\n",
        "\n",
        "ax[0][1].set_xlabel('Ratio of Majority Class (0)')\n",
        "ax[0][1].set_ylabel('Average Recall Score')\n",
        "ax[0][1].set_title('RandomSampler')\n",
        "\n",
        "\n",
        "ax[1][0].set_xlabel('Ratio of Majority Class (0)')\n",
        "ax[1][0].set_ylabel('Average Recall Score')\n",
        "ax[0][1].set_title('ClusterCentroids')\n",
        "\n",
        "\n",
        "ax[1][1].set_visible(False)"
      ],
      "execution_count": 0,
      "outputs": [
        {
          "output_type": "execute_result",
          "data": {
            "text/plain": [
              "Text(0, 0.5, 'Average Recall Score')"
            ]
          },
          "metadata": {
            "tags": []
          },
          "execution_count": 167
        },
        {
          "output_type": "display_data",
          "data": {
            "image/png": "[encoded data removed]",
            "text/plain": [
              "<Figure size 1008x1008 with 4 Axes>"
            ]
          },
          "metadata": {
            "tags": []
          }
        }
      ]
    },
    {
      "metadata": {
        "id": "kmDx1aZeO9gz",
        "colab_type": "text"
      },
      "cell_type": "markdown",
      "source": [
        "**Findings**\n",
        "\n",
        "1.   RandomUnderSampling has performed the best shown least variance in the ration\n",
        "2.   Logistic Regression and Random Forest both better then the SVM\n",
        "3.   Ratio 3 and 5 are the instresting case. As the recall score increase at this sampling after the dip\n",
        "\n"
      ]
    },
    {
      "metadata": {
        "id": "fRu8MEQaq0cH",
        "colab_type": "text"
      },
      "cell_type": "markdown",
      "source": [
        "# Error Analysis\n"
      ]
    },
    {
      "metadata": {
        "id": "Ie-omD_UPxJ1",
        "colab_type": "text"
      },
      "cell_type": "markdown",
      "source": [
        "**For generating the basline** .\n",
        "\n",
        "1. Consider the logistic regresison because it is simpler then the RandomFOREST \n",
        "\n",
        "2.  Used the sampling ratio 5 purely based on recall score of logistic Regression it performed better then the 3"
      ]
    },
    {
      "metadata": {
        "id": "ONp0ZlwLpsew",
        "colab_type": "code",
        "colab": {}
      },
      "cell_type": "code",
      "source": [
        "def kfold_false_predictions(df,fold, type_of_wrong_instance):\n",
        "  \n",
        "  X = df.drop('elite', axis= 1)\n",
        "  Y = df.elite\n",
        "    \n",
        "  kfold = model_selection.KFold(n_splits = fold, shuffle=True)\n",
        "  model = LogisticRegression()\n",
        "  \n",
        "  final_score = 0\n",
        "  for i, (train_index, test_index) in enumerate(kfold.split(X)):\n",
        "    X_train, X_test = X.iloc[train_index], X.iloc[test_index]\n",
        "    y_train, y_test = Y.iloc[train_index], Y.iloc[test_index]\n",
        "        \n",
        "    model.fit(X_train, y_train)\n",
        "    y_pred = model.predict(X_test)\n",
        "    \n",
        "    final_score += recall_score(y_test, y_pred)\n",
        "\n",
        "    # Converted to find the indices of the false predicted instance\n",
        "    y_pred = pd.Series(y_pred)\n",
        "    y_pred.index = y_test.index\n",
        "    label = 0 if type_of_wrong_instance == 'false_positive' else 1\n",
        "    \n",
        "    false_indices = [i for i in list(y_test.index) if y_test.loc[i] == label and y_test.loc[i]  != y_pred.loc[i]]\n",
        "    \n",
        "    \n",
        "    \n",
        "    if len(false_indices) != 0:\n",
        "      print(X_test.loc[false_indices[0]])\n",
        " \n",
        " "
      ],
      "execution_count": 0,
      "outputs": []
    },
    {
      "metadata": {
        "id": "hHuBNj-DsTuT",
        "colab_type": "code",
        "colab": {}
      },
      "cell_type": "code",
      "source": [
        "# Sampled data using RandomSampler is created for ratio {0:150, 1:25}\n",
        "\n",
        "X_sample, y_sample = sampling(NearMiss , ratio = {0:150, 1:25})\n",
        "sampled_df_randomSampler = pd.DataFrame(X_sample, columns = X.columns)\n",
        "sampled_df_randomSampler['elite'] = y_sample\n",
        "sampled_df_randomSampler = shuffle(sampled_df_randomSampler)\n",
        "sampled_df_randomSampler.reset_index(drop= True)"
      ],
      "execution_count": 0,
      "outputs": []
    },
    {
      "metadata": {
        "id": "CYEqqeRn0nq4",
        "colab_type": "code",
        "colab": {
          "base_uri": "https://localhost:8080/",
          "height": 34
        },
        "outputId": "d6b6f7ff-9165-4d9d-d526-3c254f3c1b6b"
      },
      "cell_type": "code",
      "source": [
        "sampled_df_randomSampler.shape"
      ],
      "execution_count": 20,
      "outputs": [
        {
          "output_type": "execute_result",
          "data": {
            "text/plain": [
              "(175, 20)"
            ]
          },
          "metadata": {
            "tags": []
          },
          "execution_count": 20
        }
      ]
    },
    {
      "metadata": {
        "id": "6m9-chrbtDxr",
        "colab_type": "code",
        "outputId": "13555b72-f77e-44ea-d46c-c992fee5b10c",
        "colab": {
          "base_uri": "https://localhost:8080/",
          "height": 1037
        }
      },
      "cell_type": "code",
      "source": [
        "# finding the false positives\n",
        "kfold_false_predictions(sampled_df_randomSampler, 10, 'false_positive')"
      ],
      "execution_count": 28,
      "outputs": [
        {
          "output_type": "stream",
          "text": [
            "review_count          28.000000\n",
            "friends                1.000000\n",
            "useful                 1.000000\n",
            "funny                  0.000000\n",
            "cool                   0.000000\n",
            "fans                   1.000000\n",
            "average_stars          4.100000\n",
            "compliment_hot         0.000000\n",
            "compliment_more        0.000000\n",
            "compliment_profile     0.000000\n",
            "compliment_cute        0.000000\n",
            "compliment_list        0.000000\n",
            "compliment_note        0.000000\n",
            "compliment_plain       0.000000\n",
            "compliment_cool        0.000000\n",
            "compliment_funny       0.000000\n",
            "compliment_writer      0.000000\n",
            "compliment_photos      0.000000\n",
            "yelping_years          1.511325\n",
            "Name: 82, dtype: float64\n",
            "review_count          71.000000\n",
            "friends                1.000000\n",
            "useful                 0.000000\n",
            "funny                  0.000000\n",
            "cool                   0.000000\n",
            "fans                   1.000000\n",
            "average_stars          4.500000\n",
            "compliment_hot         0.000000\n",
            "compliment_more        0.000000\n",
            "compliment_profile     0.000000\n",
            "compliment_cute        0.000000\n",
            "compliment_list        0.000000\n",
            "compliment_note        0.000000\n",
            "compliment_plain       0.000000\n",
            "compliment_cool        0.000000\n",
            "compliment_funny       0.000000\n",
            "compliment_writer      0.000000\n",
            "compliment_photos      0.000000\n",
            "yelping_years          4.435409\n",
            "Name: 135, dtype: float64\n",
            "review_count          28.000000\n",
            "friends                1.000000\n",
            "useful                 0.000000\n",
            "funny                  0.000000\n",
            "cool                   0.000000\n",
            "fans                   1.000000\n",
            "average_stars          3.680000\n",
            "compliment_hot         0.000000\n",
            "compliment_more        0.000000\n",
            "compliment_profile     0.000000\n",
            "compliment_cute        0.000000\n",
            "compliment_list        0.000000\n",
            "compliment_note        0.000000\n",
            "compliment_plain       0.000000\n",
            "compliment_cool        0.000000\n",
            "compliment_funny       0.000000\n",
            "compliment_writer      1.000000\n",
            "compliment_photos      0.000000\n",
            "yelping_years          1.771426\n",
            "Name: 1, dtype: float64\n"
          ],
          "name": "stdout"
        }
      ]
    },
    {
      "metadata": {
        "id": "MinzxSnNXVpq",
        "colab_type": "text"
      },
      "cell_type": "markdown",
      "source": [
        "**First thing comes to mind is checking if these records are the outlier in the dataset**\n",
        "\n",
        "We will evaluate extreme analysis on review count"
      ]
    },
    {
      "metadata": {
        "id": "3LR-mXMLQGZj",
        "colab_type": "text"
      },
      "cell_type": "markdown",
      "source": [
        "## Outlier Analysis"
      ]
    },
    {
      "metadata": {
        "id": "cWnchQ83QQYA",
        "colab_type": "code",
        "outputId": "db03c156-3e00-4585-82dc-40316fa9b3fa",
        "colab": {
          "base_uri": "https://localhost:8080/",
          "height": 313
        }
      },
      "cell_type": "code",
      "source": [
        "sns.boxplot(sampled_df_randomSampler[sampled_df_randomSampler.elite == 0].review_count)\n"
      ],
      "execution_count": 34,
      "outputs": [
        {
          "output_type": "execute_result",
          "data": {
            "text/plain": [
              "<matplotlib.axes._subplots.AxesSubplot at 0x7f70373a0b70>"
            ]
          },
          "metadata": {
            "tags": []
          },
          "execution_count": 34
        },
        {
          "output_type": "display_data",
          "data": {
            "image/png": "[encoded data removed]",
            "text/plain": [
              "<Figure size 432x288 with 1 Axes>"
            ]
          },
          "metadata": {
            "tags": []
          }
        }
      ]
    },
    {
      "metadata": {
        "id": "erhdEo09S4u0",
        "colab_type": "code",
        "outputId": "5a44b878-de45-4972-b3e5-ef39b94861c5",
        "colab": {
          "base_uri": "https://localhost:8080/",
          "height": 317
        }
      },
      "cell_type": "code",
      "source": [
        "sampled_df_randomSampler[sampled_df_randomSampler.elite == 0].describe()\n"
      ],
      "execution_count": 30,
      "outputs": [
        {
          "output_type": "execute_result",
          "data": {
            "text/html": [
              "<div>\n",
              "<style scoped>\n",
              "    .dataframe tbody tr th:only-of-type {\n",
              "        vertical-align: middle;\n",
              "    }\n",
              "\n",
              "    .dataframe tbody tr th {\n",
              "        vertical-align: top;\n",
              "    }\n",
              "\n",
              "    .dataframe thead th {\n",
              "        text-align: right;\n",
              "    }\n",
              "</style>\n",
              "<table border=\"1\" class=\"dataframe\">\n",
              "  <thead>\n",
              "    <tr style=\"text-align: right;\">\n",
              "      <th></th>\n",
              "      <th>review_count</th>\n",
              "      <th>friends</th>\n",
              "      <th>useful</th>\n",
              "      <th>funny</th>\n",
              "      <th>cool</th>\n",
              "      <th>fans</th>\n",
              "      <th>average_stars</th>\n",
              "      <th>compliment_hot</th>\n",
              "      <th>compliment_more</th>\n",
              "      <th>compliment_profile</th>\n",
              "      <th>compliment_cute</th>\n",
              "      <th>compliment_list</th>\n",
              "      <th>compliment_note</th>\n",
              "      <th>compliment_plain</th>\n",
              "      <th>compliment_cool</th>\n",
              "      <th>compliment_funny</th>\n",
              "      <th>compliment_writer</th>\n",
              "      <th>compliment_photos</th>\n",
              "      <th>yelping_years</th>\n",
              "      <th>elite</th>\n",
              "    </tr>\n",
              "  </thead>\n",
              "  <tbody>\n",
              "    <tr>\n",
              "      <th>count</th>\n",
              "      <td>150.000000</td>\n",
              "      <td>150.000000</td>\n",
              "      <td>150.000000</td>\n",
              "      <td>150.0</td>\n",
              "      <td>150.0</td>\n",
              "      <td>150.000000</td>\n",
              "      <td>150.000000</td>\n",
              "      <td>150.0</td>\n",
              "      <td>150.0</td>\n",
              "      <td>150.0</td>\n",
              "      <td>150.0</td>\n",
              "      <td>150.0</td>\n",
              "      <td>150.000000</td>\n",
              "      <td>150.0</td>\n",
              "      <td>150.0</td>\n",
              "      <td>150.0</td>\n",
              "      <td>150.000000</td>\n",
              "      <td>150.0</td>\n",
              "      <td>150.000000</td>\n",
              "      <td>150.0</td>\n",
              "    </tr>\n",
              "    <tr>\n",
              "      <th>mean</th>\n",
              "      <td>35.873333</td>\n",
              "      <td>1.006667</td>\n",
              "      <td>0.033333</td>\n",
              "      <td>0.0</td>\n",
              "      <td>0.0</td>\n",
              "      <td>0.060000</td>\n",
              "      <td>4.007667</td>\n",
              "      <td>0.0</td>\n",
              "      <td>0.0</td>\n",
              "      <td>0.0</td>\n",
              "      <td>0.0</td>\n",
              "      <td>0.0</td>\n",
              "      <td>0.020000</td>\n",
              "      <td>0.0</td>\n",
              "      <td>0.0</td>\n",
              "      <td>0.0</td>\n",
              "      <td>0.013333</td>\n",
              "      <td>0.0</td>\n",
              "      <td>4.733677</td>\n",
              "      <td>0.0</td>\n",
              "    </tr>\n",
              "    <tr>\n",
              "      <th>std</th>\n",
              "      <td>7.405147</td>\n",
              "      <td>0.081650</td>\n",
              "      <td>0.180107</td>\n",
              "      <td>0.0</td>\n",
              "      <td>0.0</td>\n",
              "      <td>0.238282</td>\n",
              "      <td>0.291505</td>\n",
              "      <td>0.0</td>\n",
              "      <td>0.0</td>\n",
              "      <td>0.0</td>\n",
              "      <td>0.0</td>\n",
              "      <td>0.0</td>\n",
              "      <td>0.140469</td>\n",
              "      <td>0.0</td>\n",
              "      <td>0.0</td>\n",
              "      <td>0.0</td>\n",
              "      <td>0.115082</td>\n",
              "      <td>0.0</td>\n",
              "      <td>1.498945</td>\n",
              "      <td>0.0</td>\n",
              "    </tr>\n",
              "    <tr>\n",
              "      <th>min</th>\n",
              "      <td>28.000000</td>\n",
              "      <td>1.000000</td>\n",
              "      <td>0.000000</td>\n",
              "      <td>0.0</td>\n",
              "      <td>0.0</td>\n",
              "      <td>0.000000</td>\n",
              "      <td>3.210000</td>\n",
              "      <td>0.0</td>\n",
              "      <td>0.0</td>\n",
              "      <td>0.0</td>\n",
              "      <td>0.0</td>\n",
              "      <td>0.0</td>\n",
              "      <td>0.000000</td>\n",
              "      <td>0.0</td>\n",
              "      <td>0.0</td>\n",
              "      <td>0.0</td>\n",
              "      <td>0.000000</td>\n",
              "      <td>0.0</td>\n",
              "      <td>1.251224</td>\n",
              "      <td>0.0</td>\n",
              "    </tr>\n",
              "    <tr>\n",
              "      <th>25%</th>\n",
              "      <td>34.000000</td>\n",
              "      <td>1.000000</td>\n",
              "      <td>0.000000</td>\n",
              "      <td>0.0</td>\n",
              "      <td>0.0</td>\n",
              "      <td>0.000000</td>\n",
              "      <td>3.805000</td>\n",
              "      <td>0.0</td>\n",
              "      <td>0.0</td>\n",
              "      <td>0.0</td>\n",
              "      <td>0.0</td>\n",
              "      <td>0.0</td>\n",
              "      <td>0.000000</td>\n",
              "      <td>0.0</td>\n",
              "      <td>0.0</td>\n",
              "      <td>0.0</td>\n",
              "      <td>0.000000</td>\n",
              "      <td>0.0</td>\n",
              "      <td>3.480564</td>\n",
              "      <td>0.0</td>\n",
              "    </tr>\n",
              "    <tr>\n",
              "      <th>50%</th>\n",
              "      <td>35.000000</td>\n",
              "      <td>1.000000</td>\n",
              "      <td>0.000000</td>\n",
              "      <td>0.0</td>\n",
              "      <td>0.0</td>\n",
              "      <td>0.000000</td>\n",
              "      <td>4.030000</td>\n",
              "      <td>0.0</td>\n",
              "      <td>0.0</td>\n",
              "      <td>0.0</td>\n",
              "      <td>0.0</td>\n",
              "      <td>0.0</td>\n",
              "      <td>0.000000</td>\n",
              "      <td>0.0</td>\n",
              "      <td>0.0</td>\n",
              "      <td>0.0</td>\n",
              "      <td>0.000000</td>\n",
              "      <td>0.0</td>\n",
              "      <td>5.107566</td>\n",
              "      <td>0.0</td>\n",
              "    </tr>\n",
              "    <tr>\n",
              "      <th>75%</th>\n",
              "      <td>37.000000</td>\n",
              "      <td>1.000000</td>\n",
              "      <td>0.000000</td>\n",
              "      <td>0.0</td>\n",
              "      <td>0.0</td>\n",
              "      <td>0.000000</td>\n",
              "      <td>4.217500</td>\n",
              "      <td>0.0</td>\n",
              "      <td>0.0</td>\n",
              "      <td>0.0</td>\n",
              "      <td>0.0</td>\n",
              "      <td>0.0</td>\n",
              "      <td>0.000000</td>\n",
              "      <td>0.0</td>\n",
              "      <td>0.0</td>\n",
              "      <td>0.0</td>\n",
              "      <td>0.000000</td>\n",
              "      <td>0.0</td>\n",
              "      <td>5.893345</td>\n",
              "      <td>0.0</td>\n",
              "    </tr>\n",
              "    <tr>\n",
              "      <th>max</th>\n",
              "      <td>73.000000</td>\n",
              "      <td>2.000000</td>\n",
              "      <td>1.000000</td>\n",
              "      <td>0.0</td>\n",
              "      <td>0.0</td>\n",
              "      <td>1.000000</td>\n",
              "      <td>4.690000</td>\n",
              "      <td>0.0</td>\n",
              "      <td>0.0</td>\n",
              "      <td>0.0</td>\n",
              "      <td>0.0</td>\n",
              "      <td>0.0</td>\n",
              "      <td>1.000000</td>\n",
              "      <td>0.0</td>\n",
              "      <td>0.0</td>\n",
              "      <td>0.0</td>\n",
              "      <td>1.000000</td>\n",
              "      <td>0.0</td>\n",
              "      <td>7.334853</td>\n",
              "      <td>0.0</td>\n",
              "    </tr>\n",
              "  </tbody>\n",
              "</table>\n",
              "</div>"
            ],
            "text/plain": [
              "       review_count     friends      useful  funny   cool        fans  \\\n",
              "count    150.000000  150.000000  150.000000  150.0  150.0  150.000000   \n",
              "mean      35.873333    1.006667    0.033333    0.0    0.0    0.060000   \n",
              "std        7.405147    0.081650    0.180107    0.0    0.0    0.238282   \n",
              "min       28.000000    1.000000    0.000000    0.0    0.0    0.000000   \n",
              "25%       34.000000    1.000000    0.000000    0.0    0.0    0.000000   \n",
              "50%       35.000000    1.000000    0.000000    0.0    0.0    0.000000   \n",
              "75%       37.000000    1.000000    0.000000    0.0    0.0    0.000000   \n",
              "max       73.000000    2.000000    1.000000    0.0    0.0    1.000000   \n",
              "\n",
              "       average_stars  compliment_hot  compliment_more  compliment_profile  \\\n",
              "count     150.000000           150.0            150.0               150.0   \n",
              "mean        4.007667             0.0              0.0                 0.0   \n",
              "std         0.291505             0.0              0.0                 0.0   \n",
              "min         3.210000             0.0              0.0                 0.0   \n",
              "25%         3.805000             0.0              0.0                 0.0   \n",
              "50%         4.030000             0.0              0.0                 0.0   \n",
              "75%         4.217500             0.0              0.0                 0.0   \n",
              "max         4.690000             0.0              0.0                 0.0   \n",
              "\n",
              "       compliment_cute  compliment_list  compliment_note  compliment_plain  \\\n",
              "count            150.0            150.0       150.000000             150.0   \n",
              "mean               0.0              0.0         0.020000               0.0   \n",
              "std                0.0              0.0         0.140469               0.0   \n",
              "min                0.0              0.0         0.000000               0.0   \n",
              "25%                0.0              0.0         0.000000               0.0   \n",
              "50%                0.0              0.0         0.000000               0.0   \n",
              "75%                0.0              0.0         0.000000               0.0   \n",
              "max                0.0              0.0         1.000000               0.0   \n",
              "\n",
              "       compliment_cool  compliment_funny  compliment_writer  \\\n",
              "count            150.0             150.0         150.000000   \n",
              "mean               0.0               0.0           0.013333   \n",
              "std                0.0               0.0           0.115082   \n",
              "min                0.0               0.0           0.000000   \n",
              "25%                0.0               0.0           0.000000   \n",
              "50%                0.0               0.0           0.000000   \n",
              "75%                0.0               0.0           0.000000   \n",
              "max                0.0               0.0           1.000000   \n",
              "\n",
              "       compliment_photos  yelping_years  elite  \n",
              "count              150.0     150.000000  150.0  \n",
              "mean                 0.0       4.733677    0.0  \n",
              "std                  0.0       1.498945    0.0  \n",
              "min                  0.0       1.251224    0.0  \n",
              "25%                  0.0       3.480564    0.0  \n",
              "50%                  0.0       5.107566    0.0  \n",
              "75%                  0.0       5.893345    0.0  \n",
              "max                  0.0       7.334853    0.0  "
            ]
          },
          "metadata": {
            "tags": []
          },
          "execution_count": 30
        }
      ]
    },
    {
      "metadata": {
        "id": "nk8E4JOQX4tl",
        "colab_type": "text"
      },
      "cell_type": "markdown",
      "source": [
        "**Lets check first by statiscally if the values are extremes**\n",
        "\n",
        "Lets check the distrobution of the review_count"
      ]
    },
    {
      "metadata": {
        "id": "aJs-eAldYB5e",
        "colab_type": "code",
        "outputId": "2b937ad9-8502-4e85-b2ab-6af9fade7517",
        "colab": {
          "base_uri": "https://localhost:8080/",
          "height": 313
        }
      },
      "cell_type": "code",
      "source": [
        "sns.distplot(sampled_df_randomSampler[sampled_df_randomSampler.elite == 0].review_count)"
      ],
      "execution_count": 31,
      "outputs": [
        {
          "output_type": "execute_result",
          "data": {
            "text/plain": [
              "<matplotlib.axes._subplots.AxesSubplot at 0x7f7037459c50>"
            ]
          },
          "metadata": {
            "tags": []
          },
          "execution_count": 31
        },
        {
          "output_type": "display_data",
          "data": {
            "image/png": "[encoded data removed]",
            "text/plain": [
              "<Figure size 432x288 with 1 Axes>"
            ]
          },
          "metadata": {
            "tags": []
          }
        }
      ]
    },
    {
      "metadata": {
        "id": "uMMANTIKYZzJ",
        "colab_type": "text"
      },
      "cell_type": "markdown",
      "source": [
        "Clearly it a long tail \n",
        "\n",
        "lets calulate the probablitity of the instances recored as false positives"
      ]
    },
    {
      "metadata": {
        "id": "2zmEfhCUVMBn",
        "colab_type": "code",
        "outputId": "a5135a85-d2b9-4405-f08d-d6b06c99c580",
        "colab": {
          "base_uri": "https://localhost:8080/",
          "height": 34
        }
      },
      "cell_type": "code",
      "source": [
        "import scipy.stats as st\n",
        "Z_score = (1- 35.8) / 28.0\n",
        "Z_score\n",
        "st.norm.cdf(Z_score)"
      ],
      "execution_count": 32,
      "outputs": [
        {
          "output_type": "execute_result",
          "data": {
            "text/plain": [
              "0.10696024046494751"
            ]
          },
          "metadata": {
            "tags": []
          },
          "execution_count": 32
        }
      ]
    },
    {
      "metadata": {
        "id": "uIH0ZAflZHmB",
        "colab_type": "code",
        "outputId": "d759f17e-6197-4f0d-b85b-476ad06d3e6b",
        "colab": {
          "base_uri": "https://localhost:8080/",
          "height": 34
        }
      },
      "cell_type": "code",
      "source": [
        "Z_score = (71- 35.8) / 28.0\n",
        "Z_score\n",
        "st.norm.cdf(Z_score)"
      ],
      "execution_count": 33,
      "outputs": [
        {
          "output_type": "execute_result",
          "data": {
            "text/plain": [
              "0.8956490446638217"
            ]
          },
          "metadata": {
            "tags": []
          },
          "execution_count": 33
        }
      ]
    },
    {
      "metadata": {
        "id": "QxP7MnBkZGuU",
        "colab_type": "text"
      },
      "cell_type": "markdown",
      "source": [
        "**Both the instances are quite exteme values**"
      ]
    },
    {
      "metadata": {
        "id": "fXZ5-P09X36L",
        "colab_type": "text"
      },
      "cell_type": "markdown",
      "source": [
        "## Machine learning Ananoly detection"
      ]
    },
    {
      "metadata": {
        "id": "EG9leTeY0K0v",
        "colab_type": "code",
        "colab": {}
      },
      "cell_type": "code",
      "source": [
        "from pyod.models.abod import ABOD\n",
        "from pyod.models.knn import KNN \n",
        "\n",
        "anamoly_detector = {\n",
        "     'ABOD'   : ABOD(contamination=0.1),\n",
        "     'KNN' :  KNN(contamination=0.1)\n",
        "}"
      ],
      "execution_count": 0,
      "outputs": []
    },
    {
      "metadata": {
        "id": "cMRsozwG0124",
        "colab_type": "code",
        "colab": {}
      },
      "cell_type": "code",
      "source": [
        "def outliers_detection(anamoly_detector, sampled_df_randomSampler):\n",
        "  sampled_df_randomSampler = sampled_df_randomSampler.reset_index(drop = True)\n",
        " \n",
        "  anamoly_detector.fit(sampled_df_randomSampler)\n",
        "  y_pred = anamoly_detector.predict(sampled_df_randomSampler)\n",
        "  y_pred[y_pred == -1] = 1 # for the invalid entry\n",
        "  y_pred[y_pred == 1] = 0 # for the valid entry\n",
        "  print(y_pred)"
      ],
      "execution_count": 0,
      "outputs": []
    },
    {
      "metadata": {
        "id": "N1wB1nS_24MJ",
        "colab_type": "code",
        "outputId": "4ecbee32-f047-401f-c4e5-db0e9c477aba",
        "colab": {
          "base_uri": "https://localhost:8080/",
          "height": 102
        }
      },
      "cell_type": "code",
      "source": [
        "outliers_detection(anamoly_detector['ABOD'], sampled_df_randomSampler)"
      ],
      "execution_count": 39,
      "outputs": [
        {
          "output_type": "stream",
          "text": [
            "[0 0 0 0 0 0 0 0 0 0 0 0 0 0 0 0 0 0 0 0 0 0 0 0 0 0 0 0 0 0 0 0 0 0 0 0 0\n",
            " 0 0 0 0 0 0 0 0 0 0 0 0 0 0 0 0 0 0 0 0 0 0 0 0 0 0 0 0 0 0 0 0 0 0 0 0 0\n",
            " 0 0 0 0 0 0 0 0 0 0 0 0 0 0 0 0 0 0 0 0 0 0 0 0 0 0 0 0 0 0 0 0 0 0 0 0 0\n",
            " 0 0 0 0 0 0 0 0 0 0 0 0 0 0 0 0 0 0 0 0 0 0 0 0 0 0 0 0 0 0 0 0 0 0 0 0 0\n",
            " 0 0 0 0 0 0 0 0 0 0 0 0 0 0 0 0 0 0 0 0 0 0 0 0 0 0 0]\n"
          ],
          "name": "stdout"
        }
      ]
    },
    {
      "metadata": {
        "id": "f_YYOPHe9agO",
        "colab_type": "code",
        "colab": {
          "base_uri": "https://localhost:8080/",
          "height": 102
        },
        "outputId": "490016c7-7539-4e9f-b172-2f9fcc7c4994"
      },
      "cell_type": "code",
      "source": [
        "outliers_detection(anamoly_detector['KNN'], sampled_df_randomSampler)"
      ],
      "execution_count": 40,
      "outputs": [
        {
          "output_type": "stream",
          "text": [
            "[0 0 0 0 0 0 0 0 0 0 0 0 0 0 0 0 0 0 0 0 0 0 0 0 0 0 0 0 0 0 0 0 0 0 0 0 0\n",
            " 0 0 0 0 0 0 0 0 0 0 0 0 0 0 0 0 0 0 0 0 0 0 0 0 0 0 0 0 0 0 0 0 0 0 0 0 0\n",
            " 0 0 0 0 0 0 0 0 0 0 0 0 0 0 0 0 0 0 0 0 0 0 0 0 0 0 0 0 0 0 0 0 0 0 0 0 0\n",
            " 0 0 0 0 0 0 0 0 0 0 0 0 0 0 0 0 0 0 0 0 0 0 0 0 0 0 0 0 0 0 0 0 0 0 0 0 0\n",
            " 0 0 0 0 0 0 0 0 0 0 0 0 0 0 0 0 0 0 0 0 0 0 0 0 0 0 0]\n"
          ],
          "name": "stdout"
        }
      ]
    },
    {
      "metadata": {
        "id": "1dkcFEuP9gdR",
        "colab_type": "text"
      },
      "cell_type": "markdown",
      "source": [
        "**Both the algorithms not able to find the outliers**"
      ]
    },
    {
      "metadata": {
        "id": "ZQF06Ojnpx0Z",
        "colab_type": "text"
      },
      "cell_type": "markdown",
      "source": [
        "# Model Tuning"
      ]
    },
    {
      "metadata": {
        "id": "k0H9Ctr_oNka",
        "colab_type": "code",
        "outputId": "6e84143d-ad2d-4576-9a27-14c97a958d0b",
        "colab": {
          "base_uri": "https://localhost:8080/",
          "height": 68
        }
      },
      "cell_type": "code",
      "source": [
        "sampled_df_randomSampler.elite.value_counts()"
      ],
      "execution_count": 41,
      "outputs": [
        {
          "output_type": "execute_result",
          "data": {
            "text/plain": [
              "0    150\n",
              "1     25\n",
              "Name: elite, dtype: int64"
            ]
          },
          "metadata": {
            "tags": []
          },
          "execution_count": 41
        }
      ]
    },
    {
      "metadata": {
        "id": "h0iOTaDnqfDl",
        "colab_type": "text"
      },
      "cell_type": "markdown",
      "source": [
        "## Feature Selection"
      ]
    },
    {
      "metadata": {
        "id": "y3FNWWtqZLaU",
        "colab_type": "code",
        "colab": {}
      },
      "cell_type": "code",
      "source": [
        "# Logistic Regression is selected for the  baseline\n",
        "X_sampled = sampled_df_randomSampler.drop('elite', axis = 1)\n",
        "y_sampled = sampled_df_randomSampler.elite\n",
        "\n",
        "classifier = LogisticRegression()\n",
        "baseline_score = cross_val_score(classifier, X_sampled, y_sampled, cv=10, scoring = 'recall').mean()\n"
      ],
      "execution_count": 0,
      "outputs": []
    },
    {
      "metadata": {
        "id": "nkSiXY0KM-89",
        "colab_type": "code",
        "colab": {
          "base_uri": "https://localhost:8080/",
          "height": 68
        },
        "outputId": "bab83fc1-4caa-4751-9894-26ab3ba0d272"
      },
      "cell_type": "code",
      "source": [
        "y_sampled.value_counts()"
      ],
      "execution_count": 43,
      "outputs": [
        {
          "output_type": "execute_result",
          "data": {
            "text/plain": [
              "0    150\n",
              "1     25\n",
              "Name: elite, dtype: int64"
            ]
          },
          "metadata": {
            "tags": []
          },
          "execution_count": 43
        }
      ]
    },
    {
      "metadata": {
        "id": "Zy1vfUo6-l0D",
        "colab_type": "text"
      },
      "cell_type": "markdown",
      "source": [
        "# This helps us to find the effect of feature selection"
      ]
    },
    {
      "metadata": {
        "id": "M6LnRxTZJPXO",
        "colab_type": "code",
        "colab": {}
      },
      "cell_type": "code",
      "source": [
        "def calculate_change_in_recall(X):\n",
        "  return cross_val_score(classifier, X, y_sampled, cv=10, scoring = 'recall').mean() - baseline_score\n"
      ],
      "execution_count": 0,
      "outputs": []
    },
    {
      "metadata": {
        "id": "YdHZMssGSrZj",
        "colab_type": "text"
      },
      "cell_type": "markdown",
      "source": [
        "### Correlation"
      ]
    },
    {
      "metadata": {
        "id": "JoqJ3IiHSq4z",
        "colab_type": "code",
        "outputId": "5b265bc5-6788-44e9-eeb2-9c5072fd7123",
        "colab": {
          "base_uri": "https://localhost:8080/",
          "height": 374
        }
      },
      "cell_type": "code",
      "source": [
        "sampled_df_randomSampler.corr().elite"
      ],
      "execution_count": 45,
      "outputs": [
        {
          "output_type": "execute_result",
          "data": {
            "text/plain": [
              "review_count          0.250186\n",
              "friends               0.502794\n",
              "useful                0.145199\n",
              "funny                      NaN\n",
              "cool                       NaN\n",
              "fans                  0.462100\n",
              "average_stars        -0.007426\n",
              "compliment_hot        0.374634\n",
              "compliment_more       0.185695\n",
              "compliment_profile         NaN\n",
              "compliment_cute            NaN\n",
              "compliment_list            NaN\n",
              "compliment_note       0.126025\n",
              "compliment_plain      0.185695\n",
              "compliment_cool       0.263371\n",
              "compliment_funny      0.263371\n",
              "compliment_writer     0.282051\n",
              "compliment_photos          NaN\n",
              "yelping_years        -0.332993\n",
              "elite                 1.000000\n",
              "Name: elite, dtype: float64"
            ]
          },
          "metadata": {
            "tags": []
          },
          "execution_count": 45
        }
      ]
    },
    {
      "metadata": {
        "id": "LC5thhhQqo9b",
        "colab_type": "code",
        "colab": {}
      },
      "cell_type": "code",
      "source": [
        "df_with_high_corr = sampled_df_randomSampler[[ 'friends', 'fans', 'compliment_hot', 'yelping_years', 'elite']].reset_index(drop= True)"
      ],
      "execution_count": 0,
      "outputs": []
    },
    {
      "metadata": {
        "id": "DghoDKmDVdZV",
        "colab_type": "code",
        "colab": {}
      },
      "cell_type": "code",
      "source": [
        "X_corr = df_with_high_corr.drop('elite',axis =1)\n"
      ],
      "execution_count": 0,
      "outputs": []
    },
    {
      "metadata": {
        "id": "lXHR1fnZX86I",
        "colab_type": "code",
        "outputId": "8cde6f98-4c1c-46d0-ab01-c686da110d6c",
        "colab": {
          "base_uri": "https://localhost:8080/",
          "height": 34
        }
      },
      "cell_type": "code",
      "source": [
        "calculate_change_in_recall(X_corr)"
      ],
      "execution_count": 49,
      "outputs": [
        {
          "output_type": "execute_result",
          "data": {
            "text/plain": [
              "-0.11666666666666659"
            ]
          },
          "metadata": {
            "tags": []
          },
          "execution_count": 49
        }
      ]
    },
    {
      "metadata": {
        "id": "AW3ONBnkYpbI",
        "colab_type": "text"
      },
      "cell_type": "markdown",
      "source": [
        "### RFE"
      ]
    },
    {
      "metadata": {
        "id": "ZyCPy0g0Yoc5",
        "colab_type": "code",
        "outputId": "844f650b-9d45-416c-8a1f-9a8aa73ae3b5",
        "colab": {
          "base_uri": "https://localhost:8080/",
          "height": 34
        }
      },
      "cell_type": "code",
      "source": [
        "classifier = RandomForestClassifier(n_estimators=100, \n",
        "                                            max_depth=2,\n",
        "                                           random_state=0)\n",
        "rfe = RFE(classifier, 12 )\n",
        "#Transforming data using RFE\n",
        "X_rfe = rfe.fit_transform(X_sampled,y_sampled) \n",
        "X_rfe.shape"
      ],
      "execution_count": 50,
      "outputs": [
        {
          "output_type": "execute_result",
          "data": {
            "text/plain": [
              "(175, 12)"
            ]
          },
          "metadata": {
            "tags": []
          },
          "execution_count": 50
        }
      ]
    },
    {
      "metadata": {
        "id": "XdQ0Do_4zcbf",
        "colab_type": "code",
        "outputId": "787a694e-0e3c-42c4-b858-deba444e612a",
        "colab": {
          "base_uri": "https://localhost:8080/",
          "height": 34
        }
      },
      "cell_type": "code",
      "source": [
        "calculate_change_in_recall(X_rfe)"
      ],
      "execution_count": 51,
      "outputs": [
        {
          "output_type": "execute_result",
          "data": {
            "text/plain": [
              "-0.24999999999999994"
            ]
          },
          "metadata": {
            "tags": []
          },
          "execution_count": 51
        }
      ]
    },
    {
      "metadata": {
        "id": "apt_RvQGLzoD",
        "colab_type": "text"
      },
      "cell_type": "markdown",
      "source": [
        "### Esemble "
      ]
    },
    {
      "metadata": {
        "id": "ctmds5PUswSX",
        "colab_type": "code",
        "outputId": "b05da742-b47b-4872-9886-28ea274d1229",
        "colab": {
          "base_uri": "https://localhost:8080/",
          "height": 272
        }
      },
      "cell_type": "code",
      "source": [
        "from sklearn.ensemble import ExtraTreesClassifier\n",
        "import matplotlib.pyplot as plt\n",
        "model = ExtraTreesClassifier()\n",
        "model.fit(X_sampled,y_sampled) \n",
        "feat_importances = pd.Series(model.feature_importances_, index=X.columns)\n",
        "feat_importances.nlargest(10).plot(kind='barh')\n",
        "plt.show();"
      ],
      "execution_count": 52,
      "outputs": [
        {
          "output_type": "display_data",
          "data": {
            "image/png": "[encoded data removed]",
            "text/plain": [
              "<Figure size 432x288 with 1 Axes>"
            ]
          },
          "metadata": {
            "tags": []
          }
        }
      ]
    },
    {
      "metadata": {
        "id": "6s1U8rsK514M",
        "colab_type": "code",
        "colab": {}
      },
      "cell_type": "code",
      "source": [
        "important_10_features = list(feat_importances.nlargest(10).index)\n",
        "X_important_features = X_sampled[important_10_features]"
      ],
      "execution_count": 0,
      "outputs": []
    },
    {
      "metadata": {
        "id": "NH-D1ARp7L7V",
        "colab_type": "code",
        "outputId": "9f698734-2f0b-4d0b-8f0e-d77968cabc63",
        "colab": {
          "base_uri": "https://localhost:8080/",
          "height": 34
        }
      },
      "cell_type": "code",
      "source": [
        "calculate_change_in_recall(X_important_features)"
      ],
      "execution_count": 54,
      "outputs": [
        {
          "output_type": "execute_result",
          "data": {
            "text/plain": [
              "-0.16666666666666663"
            ]
          },
          "metadata": {
            "tags": []
          },
          "execution_count": 54
        }
      ]
    },
    {
      "metadata": {
        "id": "3ZTV11Fq-Bg2",
        "colab_type": "text"
      },
      "cell_type": "markdown",
      "source": [
        "# Findings \n",
        "\n",
        "1. CLearly this problem is the case of the anamoly detection\n",
        "2. Classifers even with the feature selection not able to improve the recall score\n",
        "3. We need to do more outlier analysis on the dataset and also try on diffeerent unsampling techniques"
      ]
    }
  ]
}